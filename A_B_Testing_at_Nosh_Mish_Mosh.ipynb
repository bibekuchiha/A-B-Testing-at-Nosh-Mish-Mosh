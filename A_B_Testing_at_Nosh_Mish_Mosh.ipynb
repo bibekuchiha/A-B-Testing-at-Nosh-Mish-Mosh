{
  "nbformat": 4,
  "nbformat_minor": 0,
  "metadata": {
    "colab": {
      "name": "A/B Testing at Nosh Mish Mosh.ipynb",
      "provenance": []
    },
    "kernelspec": {
      "name": "python3",
      "display_name": "Python 3"
    }
  },
  "cells": [
    {
      "cell_type": "markdown",
      "metadata": {
        "id": "gPiFN45CrZB9",
        "colab_type": "text"
      },
      "source": [
        "We’ve collected customer data for the past week and exposed it through a Python library, so first import noshmishmosh and numpy packages\n",
        ".\n"
      ]
    },
    {
      "cell_type": "code",
      "metadata": {
        "id": "tT0ZQBmhrTrS",
        "colab_type": "code",
        "colab": {}
      },
      "source": [
        "#importing libraries\n",
        "import noshmishmosh\n",
        "import numpy as np\n"
      ],
      "execution_count": 1,
      "outputs": []
    },
    {
      "cell_type": "markdown",
      "metadata": {
        "id": "ckUotPuUr7VT",
        "colab_type": "text"
      },
      "source": [
        "#A/B Testing at Nosh Mish Mosh\n"
      ]
    },
    {
      "cell_type": "markdown",
      "metadata": {
        "id": "Jybh1YlEsAlq",
        "colab_type": "text"
      },
      "source": [
        "\n",
        "Nosh Mish Mosh wants to run an experiment to see if we can convince more people to purchase meal plans if we use a more artisanal-looking vegetable selection. We’ve photographed these modern meals with blush tomatoes and graffiti eggplants, but aren’t sure if this strategy will sell enough units to benefit from establishing a business relationship with a new provider.\n",
        "\n",
        "Before running this experiment, of course, we need to know how many people have to see the new assets. We don’t want customers seeing food that we won’t end up offering. Of course, there are three things we need to know before we determine that number.\n",
        "\n",
        "* the Baseline\n",
        "* the Minimum Detectable Effect\n",
        "* and the Statistical Significance"
      ]
    },
    {
      "cell_type": "markdown",
      "metadata": {
        "id": "kKGorWDUsHs3",
        "colab_type": "text"
      },
      "source": [
        "Let’s get the ball rolling on finding those numbers! In order to get our baseline, we need to first know how many users visited the site. Let’s grab that logged information, which is stored in noshmishmosh.customer_visits. Assign that to a new variable called **all_visitors**.\n",
        "\n",
        "Next we need to know how many visitors to the site ultimately end up buying a meal or set of meals from Nosh Mish Mosh. We have that information saved into purchasing_customers field on noshmishmosh. Save that information into a variable called **paying_visitors**."
      ]
    },
    {
      "cell_type": "code",
      "metadata": {
        "id": "hrsKPu4Arz6i",
        "colab_type": "code",
        "colab": {}
      },
      "source": [
        "all_visitors = noshmishmosh.customer_visits\n",
        "\n",
        "paying_visitors = noshmishmosh.purchasing_customers"
      ],
      "execution_count": 2,
      "outputs": []
    },
    {
      "cell_type": "code",
      "metadata": {
        "id": "6WIDHPprsaax",
        "colab_type": "code",
        "colab": {
          "base_uri": "https://localhost:8080/",
          "height": 51
        },
        "outputId": "c49de6f3-78df-48ce-bd27-5f0ad8fc7ad0"
      },
      "source": [
        "#Calculate the lengths of the two lists\n",
        "total_visitor_count = len(all_visitors)\n",
        "paying_visitor_count = len (paying_visitors)\n",
        "print(total_visitor_count)\n",
        "print(paying_visitor_count)"
      ],
      "execution_count": 4,
      "outputs": [
        {
          "output_type": "stream",
          "text": [
            "500\n",
            "93\n"
          ],
          "name": "stdout"
        }
      ]
    },
    {
      "cell_type": "markdown",
      "metadata": {
        "id": "U0FIjkjtsrer",
        "colab_type": "text"
      },
      "source": [
        "Now to get the baseline: since we want a percentage as our answer, multiply the number of purchasing visitors by 100.0. Then divide that by the number of total visitors. Save the result in a variable called **baseline_percent**."
      ]
    },
    {
      "cell_type": "code",
      "metadata": {
        "id": "Bi73A-6ssus5",
        "colab_type": "code",
        "colab": {
          "base_uri": "https://localhost:8080/",
          "height": 34
        },
        "outputId": "0e195bba-755d-4cca-8050-857258de4ff9"
      },
      "source": [
        "baseline_percent =   (paying_visitor_count *100.0)/(total_visitor_count)\n",
        "print(baseline_percent)"
      ],
      "execution_count": 5,
      "outputs": [
        {
          "output_type": "stream",
          "text": [
            "18.6\n"
          ],
          "name": "stdout"
        }
      ]
    },
    {
      "cell_type": "markdown",
      "metadata": {
        "id": "PX-WHQqms1CY",
        "colab_type": "text"
      },
      "source": [
        "#Mish Mosh B'Gosh: the Minimum Detectable Effect"
      ]
    },
    {
      "cell_type": "markdown",
      "metadata": {
        "id": "QDV92JXQs3JI",
        "colab_type": "text"
      },
      "source": [
        "\n",
        "These rainbow fingerling potatoes don’t come cheap. We’d like to know for sure that we’ll be pulling in at least $1240 more every week. In order to figure out how many more customers we need we’ll have to investigate the average revenue generated from a given sale. Luckily we have a list of the money spent by each customer in noshmishmosh.money_spent. Save that list into a variable called **payment_history**."
      ]
    },
    {
      "cell_type": "code",
      "metadata": {
        "id": "Gl8v4fhzs8Gg",
        "colab_type": "code",
        "colab": {}
      },
      "source": [
        "payment_history = noshmishmosh.money_spent\n"
      ],
      "execution_count": 6,
      "outputs": []
    },
    {
      "cell_type": "markdown",
      "metadata": {
        "id": "hEny4jGZtB2w",
        "colab_type": "text"
      },
      "source": [
        "\n",
        "We need to find how many typical purchases it would take to reach $1240 in additional revenue using our historical data.\n",
        "\n",
        "Let’s start with computing the average payment per paying customer using np.mean, saving it as average_payment."
      ]
    },
    {
      "cell_type": "code",
      "metadata": {
        "id": "Or3ocL6ns9_1",
        "colab_type": "code",
        "colab": {
          "base_uri": "https://localhost:8080/",
          "height": 34
        },
        "outputId": "ecdbabbe-055a-4df8-e8bc-d8853368fb35"
      },
      "source": [
        "average_payment = np.mean(payment_history)\n",
        "print(average_payment)"
      ],
      "execution_count": 7,
      "outputs": [
        {
          "output_type": "stream",
          "text": [
            "26.543655913978498\n"
          ],
          "name": "stdout"
        }
      ]
    },
    {
      "cell_type": "markdown",
      "metadata": {
        "id": "KfVplkoLtGc4",
        "colab_type": "text"
      },
      "source": [
        "We want to know how many of these “usual” payments it would take to clear our $1240 mark. Round the number up using np.ceil (because that’s how many new customers it takes to bring in more than $1240). Save that value into a new_customers_needed variable."
      ]
    },
    {
      "cell_type": "code",
      "metadata": {
        "id": "1wmZCrC5tHGg",
        "colab_type": "code",
        "colab": {
          "base_uri": "https://localhost:8080/",
          "height": 34
        },
        "outputId": "2be8de5d-8ec5-43eb-da15-94570c7bc336"
      },
      "source": [
        "new_customers_needed = np.ceil(1240/average_payment)\n",
        "print(new_customers_needed)"
      ],
      "execution_count": 8,
      "outputs": [
        {
          "output_type": "stream",
          "text": [
            "47.0\n"
          ],
          "name": "stdout"
        }
      ]
    },
    {
      "cell_type": "markdown",
      "metadata": {
        "id": "zj24BQlGtQLP",
        "colab_type": "text"
      },
      "source": [
        "Now find the percent lift required by multiplying the number of customers by 100.0 and dividing the result by the total visitor count ascertained earlier. Save the result in a variable called percentage_point_increase. Print percentage_point_increase to see what it is."
      ]
    },
    {
      "cell_type": "code",
      "metadata": {
        "id": "rHrSE1wNtQ4o",
        "colab_type": "code",
        "colab": {
          "base_uri": "https://localhost:8080/",
          "height": 34
        },
        "outputId": "472d0f63-0a7e-4b07-85d7-1a83dc57cc5e"
      },
      "source": [
        "percentage_point_increase = (new_customers_needed * 100.0) / total_visitor_count\n",
        "print(percentage_point_increase)"
      ],
      "execution_count": 9,
      "outputs": [
        {
          "output_type": "stream",
          "text": [
            "9.4\n"
          ],
          "name": "stdout"
        }
      ]
    },
    {
      "cell_type": "markdown",
      "metadata": {
        "id": "DCHqKew_tV9A",
        "colab_type": "text"
      },
      "source": [
        "\n",
        "In order to find our minimum detectable effect, we need to express percentage_point_increase as a percent of baseline_percent. You can do this by dividing percentage_point_increase by baseline_percent and multiplying by 100.0.\n",
        "\n",
        "Store the results in a variable called minimum_detectable_effect."
      ]
    },
    {
      "cell_type": "code",
      "metadata": {
        "id": "6J28RInftWpe",
        "colab_type": "code",
        "colab": {
          "base_uri": "https://localhost:8080/",
          "height": 34
        },
        "outputId": "39aeb819-b1d5-4489-e160-fc2ceff73d4e"
      },
      "source": [
        "minimum_detectable_effect = 100.0 * percentage_point_increase / baseline_percent\n",
        "print(minimum_detectable_effect)"
      ],
      "execution_count": 10,
      "outputs": [
        {
          "output_type": "stream",
          "text": [
            "50.537634408602145\n"
          ],
          "name": "stdout"
        }
      ]
    },
    {
      "cell_type": "markdown",
      "metadata": {
        "id": "ohJt7g2Ata5_",
        "colab_type": "text"
      },
      "source": [
        "#Nosh Mish Mosh: Tying It All Together"
      ]
    },
    {
      "cell_type": "markdown",
      "metadata": {
        "id": "pkahLj_Uteku",
        "colab_type": "text"
      },
      "source": [
        "The last thing we need to calculate the sample size for Nosh Mish Mosh’s artisanal rebranding is our statistical significance. We’d like to be fairly certain, but this isn’t going to be a million dollar decision, so let’s go with 90%.\n",
        "https://s3.amazonaws.com/codecademy-content/courses/learn-hypothesis-testing/a_b_sample_size/index.html"
      ]
    },
    {
      "cell_type": "code",
      "metadata": {
        "id": "6-_5pLrUtfN_",
        "colab_type": "code",
        "colab": {}
      },
      "source": [
        "Statistical_significance = 90\n"
      ],
      "execution_count": 11,
      "outputs": []
    },
    {
      "cell_type": "markdown",
      "metadata": {
        "id": "lQwaRVhjtj4_",
        "colab_type": "text"
      },
      "source": [
        "\n",
        "Now put it all together! Puch the baseline, the minimum detectable effect, and the statistical significance into the calculator and evaluate how many people need to be shown the new assets before we can check if the results are a significant improvement. Save the results in a variable called ab_sample_size.\n",
        "\n",
        "\n",
        "\n",
        "\n",
        "\n",
        "\n",
        "\n",
        "\n",
        "\n",
        "\n",
        "\n",
        "\n",
        "\n",
        "\n",
        "\n",
        "\n",
        "\n",
        "\n",
        "\n",
        "\n",
        "\n",
        "\n",
        "\n",
        "\n",
        "\n",
        "\n",
        "\n",
        "![FireShot Capture 006 - Sample Size Determination - Codecademy - www.codecademy.com.png](data:image/png;base64,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)"
      ]
    },
    {
      "cell_type": "code",
      "metadata": {
        "id": "ir6fDJiLtkkO",
        "colab_type": "code",
        "colab": {}
      },
      "source": [
        "ab_sample_size = 290"
      ],
      "execution_count": null,
      "outputs": []
    }
  ]
}